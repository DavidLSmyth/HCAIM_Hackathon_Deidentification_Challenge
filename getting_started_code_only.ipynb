{
  "cells": [
    {
      "cell_type": "markdown",
      "source": [
        "# HCAIM Hackathon Challenge 2: Starter Notebook (Slim version)"
      ],
      "metadata": {
        "id": "KmaVUVHCgX8B"
      }
    },
    {
      "cell_type": "markdown",
      "metadata": {
        "id": "VEeaWUCVe6CC"
      },
      "source": [
        "This notebook is designed to introduce participants to the HCAIM Hackathon Challenge 2. Please read the supporting documentation before beginning the notebook.\n",
        "\n",
        "To begin, first make a copy of this notebook in Google Drive (this ensures your changes wil be saved). Then you can run the copy in Colab to get started.\n",
        "\n",
        "Lets get started!"
      ]
    },
    {
      "cell_type": "markdown",
      "source": [
        "First, please enter your team name below. This will be used for submission and will be displayed on the leaderboard."
      ],
      "metadata": {
        "id": "B3uf03ymFIKb"
      }
    },
    {
      "cell_type": "code",
      "source": [
        "team_name = input(\"Enter your assigned team name: \")\n",
        "print(f\"Welcome to the HCAIM hackathon team {team_name}\")"
      ],
      "metadata": {
        "id": "VU35DUZAFG43",
        "colab": {
          "base_uri": "https://localhost:8080/"
        },
        "outputId": "1e2cdde1-7d90-4e12-84e2-a409d125aceb"
      },
      "execution_count": null,
      "outputs": [
        {
          "output_type": "stream",
          "name": "stdout",
          "text": [
            "Enter your assigned team name: admiring_cohen\n",
            "Welcome to the HCAIM hackathon team admiring_cohen\n"
          ]
        }
      ]
    },
    {
      "cell_type": "markdown",
      "source": [
        "Next, your mentor will give you a corresponding private key. This is your unique way to gain access to the api. Don't share this with anyone else! Once you have set it here it will be automatically used for submission. This will look something like DRKG7Y7 (7 digits, alphanumeric)."
      ],
      "metadata": {
        "id": "Rl-JLlg7mg1l"
      }
    },
    {
      "cell_type": "code",
      "source": [
        "private_team_code_name = input(\"Enter your private team code issued by your mentor: \")"
      ],
      "metadata": {
        "colab": {
          "base_uri": "https://localhost:8080/"
        },
        "id": "qdmnk5TKkl6Z",
        "outputId": "be6ed7d3-b57a-435e-91a9-01c9b11c2270"
      },
      "execution_count": null,
      "outputs": [
        {
          "name": "stdout",
          "output_type": "stream",
          "text": [
            "Enter your private team code issued by your mentor: 1WVIIDZ\n"
          ]
        }
      ]
    },
    {
      "cell_type": "code",
      "execution_count": null,
      "metadata": {
        "id": "wB5RxbbHe6CM"
      },
      "outputs": [],
      "source": [
        "#pandas will let us work with dataframes\n",
        "import pandas as pd\n",
        "import numpy as np\n",
        "import requests\n",
        "#don't change the competition URL!\n",
        "COMPETITION_URL = \"http://localhost:3030\""
      ]
    },
    {
      "cell_type": "code",
      "source": [
        "%%bash\n",
        "# downlaod the patch for glibc on ubuntu 18.04 (which colab runs) and the OBLV proxy \n",
        "wget https://oblv.io/gcolab-quickstart-v0-2-0 -O oblv-gcolab-patch-v0.2.0.zip -q\n",
        "# unzip it\n",
        "unzip -qq oblv-gcolab-patch-v0.2.0.zip \n",
        "# give exec permission to the installer\n",
        "chmod 755 ./oblv-gcolab-patch-v0.2.0/install.sh\n",
        "# install\n",
        "./oblv-gcolab-patch-v0.2.0/install.sh > /dev/null 2>&1"
      ],
      "metadata": {
        "id": "SJvgAYZbNxSj",
        "colab": {
          "base_uri": "https://localhost:8080/"
        },
        "outputId": "a3a4ede6-2d58-4875-b8df-0b1b1f9ca255"
      },
      "execution_count": null,
      "outputs": [
        {
          "output_type": "stream",
          "name": "stderr",
          "text": [
            "replace oblv-gcolab-patch-v0.2.0/install.sh? [y]es, [n]o, [A]ll, [N]one, [r]ename: error:  invalid response [# give ex]\n",
            "replace oblv-gcolab-patch-v0.2.0/install.sh? [y]es, [n]o, [A]ll, [N]one, [r]ename: error:  invalid response [ec permis]\n",
            "replace oblv-gcolab-patch-v0.2.0/install.sh? [y]es, [n]o, [A]ll, [N]one, [r]ename: error:  invalid response [sion to t]\n",
            "replace oblv-gcolab-patch-v0.2.0/install.sh? [y]es, [n]o, [A]ll, [N]one, [r]ename: error:  invalid response [he instal]\n",
            "replace oblv-gcolab-patch-v0.2.0/install.sh? [y]es, [n]o, [A]ll, [N]one, [r]ename: error:  invalid response [ler]\n",
            "replace oblv-gcolab-patch-v0.2.0/install.sh? [y]es, [n]o, [A]ll, [N]one, [r]ename: error:  invalid response [chmod 755]\n",
            "replace oblv-gcolab-patch-v0.2.0/install.sh? [y]es, [n]o, [A]ll, [N]one, [r]ename: error:  invalid response [ ./oblv-g]\n",
            "replace oblv-gcolab-patch-v0.2.0/install.sh? [y]es, [n]o, [A]ll, [N]one, [r]ename: error:  invalid response [colab-pat]\n",
            "replace oblv-gcolab-patch-v0.2.0/install.sh? [y]es, [n]o, [A]ll, [N]one, [r]ename: error:  invalid response [ch-v0.2.0]\n",
            "replace oblv-gcolab-patch-v0.2.0/install.sh? [y]es, [n]o, [A]ll, [N]one, [r]ename: error:  invalid response [/install.]\n",
            "replace oblv-gcolab-patch-v0.2.0/install.sh? [y]es, [n]o, [A]ll, [N]one, [r]ename: error:  invalid response [sh]\n",
            "replace oblv-gcolab-patch-v0.2.0/install.sh? [y]es, [n]o, [A]ll, [N]one, [r]ename: error:  invalid response [# install]\n",
            "replace oblv-gcolab-patch-v0.2.0/install.sh? [y]es, [n]o, [A]ll, [N]one, [r]ename: error:  invalid response [{ENTER}]\n",
            "replace oblv-gcolab-patch-v0.2.0/install.sh? [y]es, [n]o, [A]ll, [N]one, [r]ename: error:  invalid response [./oblv-gc]\n",
            "replace oblv-gcolab-patch-v0.2.0/install.sh? [y]es, [n]o, [A]ll, [N]one, [r]ename: error:  invalid response [olab-patc]\n",
            "replace oblv-gcolab-patch-v0.2.0/install.sh? [y]es, [n]o, [A]ll, [N]one, [r]ename: error:  invalid response [h-v0.2.0/]\n",
            "replace oblv-gcolab-patch-v0.2.0/install.sh? [y]es, [n]o, [A]ll, [N]one, [r]ename: error:  invalid response [install.s]\n",
            "replace oblv-gcolab-patch-v0.2.0/install.sh? [y]es, [n]o, [A]ll, [N]one, [r]ename: error:  invalid response [h > /dev/]\n",
            "replace oblv-gcolab-patch-v0.2.0/install.sh? [y]es, [n]o, [A]ll, [N]one, [r]ename: replace oblv-gcolab-patch-v0.2.0/oblv-ccli-0.2.0-x86_64-unknown-linux-gnu.zip? [y]es, [n]o, [A]ll, [N]one, [r]ename: error:  invalid response [{ENTER}]\n",
            "replace oblv-gcolab-patch-v0.2.0/oblv-ccli-0.2.0-x86_64-unknown-linux-gnu.zip? [y]es, [n]o, [A]ll, [N]one, [r]ename:  NULL\n",
            "(EOF or read error, treating as \"[N]one\" ...)\n"
          ]
        }
      ]
    },
    {
      "cell_type": "code",
      "source": [
        "#save your unique public and private keys to access the api\n",
        "with open(\"oblv_public.der\", \"wb\") as public_key_file:\n",
        "  public_key_file.write(requests.get(f\"https://google-colab-quickstart.s3.eu-west-2.amazonaws.com/participant_keys/{private_team_code_name}/oblv_public.der\").content)\n",
        "\n",
        "with open(\"oblv_private.der\", \"wb\") as private_file:\n",
        "  private_file.write(requests.get(f\"https://google-colab-quickstart.s3.eu-west-2.amazonaws.com/participant_keys/{private_team_code_name}/oblv_private.der\").content)\n",
        "\n"
      ],
      "metadata": {
        "id": "Sz8088s8Ny9N"
      },
      "execution_count": null,
      "outputs": []
    },
    {
      "cell_type": "code",
      "source": [
        "%%script bash --bg\n",
        "#Nothing needs to be changed. Just run the cell!\n",
        "\n",
        "## Proxy for Competition:\n",
        "\n",
        "# This runs the OBLV enclave proxy for you on http://localhost:3030. \n",
        "# You sending requests to this address will get encrypted sent to the enclave.\n",
        "#   - The PCR codes are what gaurentee what is running inside the enclave\n",
        "#   - If you were to fork https://github.com/ObliviousAI/Synthetic-Data-Competition\n",
        "#     and deploy it to an enclave through oblivious.ai, you'll get the exact same\n",
        "#     pcr codes\n",
        "#   - The signatures that gaurentee this are from the underlying infrastructure \n",
        "#     (in our case AWS Nitro Enclaves) \n",
        "oblv connect \\\n",
        "--pcr0 bfc9060de5425cfad0ebe95b101169228bd83f4a0685def23588c71f0326967581f8d379d5c88e8999441d48ea165a8e \\\n",
        "--pcr1 bcdf05fefccaa8e55bf2c8d6dee9e79bbff31e34bf28a99aa19e6b29c37ee80b214a414b7607236edf26fcb78654e63f \\\n",
        "--pcr2 0d054f92d9f6e355d84d18252f69eb6619d1d6992b4b397ef9b8a56ef4244738921760d0206071012af69337322f10a6 \\\n",
        "--private-key \"/content/oblv_private.der\" \\\n",
        "--public-key \"/content/oblv_public.der\" \\\n",
        "--url https://linka-appli-1owuiccjkyl4u-893942231.enclave.oblivious.ai/ --port 443 --lport 3030 -c"
      ],
      "metadata": {
        "colab": {
          "base_uri": "https://localhost:8080/"
        },
        "id": "rV2UB3C3ftIJ",
        "outputId": "dd4c51ff-13c3-4eee-b876-6259adaec218"
      },
      "execution_count": null,
      "outputs": [
        {
          "output_type": "stream",
          "name": "stdout",
          "text": [
            "Starting job # 3 in a separate thread.\n"
          ]
        }
      ]
    },
    {
      "cell_type": "markdown",
      "source": [
        "If you have little previous experience with pandas you should first review this [10 minutes to pandas](https://pandas.pydata.org/docs/user_guide/10min.html) tutorial."
      ],
      "metadata": {
        "id": "b5nsEL1GI03G"
      }
    },
    {
      "cell_type": "code",
      "source": [
        "# load in the data\n",
        "data_url = 'https://raw.githubusercontent.com/DavidLSmyth/HCAIM_Hackathon_Deidentification_Challenge/main/data/'\n",
        "\n",
        "# Anonymized data\n",
        "credit_card_data = pd.read_csv(data_url + \"CreditCardData.csv\")\n",
        "fico_credit_score_data = pd.read_csv(data_url + \"FicoCreditScore.csv\")\n",
        "transactions_data = pd.read_csv(data_url +  \"CreditCardTransactions.csv\", dtype={'Merchant Zip': 'str'})\n",
        "\n",
        "# Personally identifiable information\n",
        "pii_data = pd.read_csv(data_url + \"PersonalIdentifiableInfo.csv\")"
      ],
      "metadata": {
        "id": "HaDjGNP8blfd"
      },
      "execution_count": null,
      "outputs": []
    },
    {
      "cell_type": "markdown",
      "metadata": {
        "id": "FuJORu1Xe6CR"
      },
      "source": [
        "Let's take a look at each dataset."
      ]
    },
    {
      "cell_type": "code",
      "execution_count": null,
      "metadata": {
        "id": "tgFAkwG0e6CX",
        "outputId": "75376b8a-e4a6-49ad-e602-02e2be0a4855",
        "colab": {
          "base_uri": "https://localhost:8080/",
          "height": 206
        }
      },
      "outputs": [
        {
          "output_type": "execute_result",
          "data": {
            "text/plain": [
              "            City   Latitude   Longitude  Gender  Birth Year  \\\n",
              "0    Harbor City  33.803521 -118.296347    Male        1961   \n",
              "1    San Leandro  37.710000 -122.160000    Male        1952   \n",
              "2  Santa Barbara  34.400000 -119.720000  Female        1954   \n",
              "3   Walnut Creek  37.890000 -122.030000  Female        1985   \n",
              "4    Watsonville  36.950000 -121.720000    Male        1957   \n",
              "\n",
              "  Yearly Income - Person  FICO Score  Num Credit Cards  ID_2  \n",
              "0                 $44924         717                 3   149  \n",
              "1                 $30962         743                 5   195  \n",
              "2                 $35404         575                 3   219  \n",
              "3                 $87030         727                 3    77  \n",
              "4                 $34496         731                 5   163  "
            ],
            "text/html": [
              "\n",
              "  <div id=\"df-34f2d21d-a0ba-4c1f-ac1d-8ce2e7e31867\">\n",
              "    <div class=\"colab-df-container\">\n",
              "      <div>\n",
              "<style scoped>\n",
              "    .dataframe tbody tr th:only-of-type {\n",
              "        vertical-align: middle;\n",
              "    }\n",
              "\n",
              "    .dataframe tbody tr th {\n",
              "        vertical-align: top;\n",
              "    }\n",
              "\n",
              "    .dataframe thead th {\n",
              "        text-align: right;\n",
              "    }\n",
              "</style>\n",
              "<table border=\"1\" class=\"dataframe\">\n",
              "  <thead>\n",
              "    <tr style=\"text-align: right;\">\n",
              "      <th></th>\n",
              "      <th>City</th>\n",
              "      <th>Latitude</th>\n",
              "      <th>Longitude</th>\n",
              "      <th>Gender</th>\n",
              "      <th>Birth Year</th>\n",
              "      <th>Yearly Income - Person</th>\n",
              "      <th>FICO Score</th>\n",
              "      <th>Num Credit Cards</th>\n",
              "      <th>ID_2</th>\n",
              "    </tr>\n",
              "  </thead>\n",
              "  <tbody>\n",
              "    <tr>\n",
              "      <th>0</th>\n",
              "      <td>Harbor City</td>\n",
              "      <td>33.803521</td>\n",
              "      <td>-118.296347</td>\n",
              "      <td>Male</td>\n",
              "      <td>1961</td>\n",
              "      <td>$44924</td>\n",
              "      <td>717</td>\n",
              "      <td>3</td>\n",
              "      <td>149</td>\n",
              "    </tr>\n",
              "    <tr>\n",
              "      <th>1</th>\n",
              "      <td>San Leandro</td>\n",
              "      <td>37.710000</td>\n",
              "      <td>-122.160000</td>\n",
              "      <td>Male</td>\n",
              "      <td>1952</td>\n",
              "      <td>$30962</td>\n",
              "      <td>743</td>\n",
              "      <td>5</td>\n",
              "      <td>195</td>\n",
              "    </tr>\n",
              "    <tr>\n",
              "      <th>2</th>\n",
              "      <td>Santa Barbara</td>\n",
              "      <td>34.400000</td>\n",
              "      <td>-119.720000</td>\n",
              "      <td>Female</td>\n",
              "      <td>1954</td>\n",
              "      <td>$35404</td>\n",
              "      <td>575</td>\n",
              "      <td>3</td>\n",
              "      <td>219</td>\n",
              "    </tr>\n",
              "    <tr>\n",
              "      <th>3</th>\n",
              "      <td>Walnut Creek</td>\n",
              "      <td>37.890000</td>\n",
              "      <td>-122.030000</td>\n",
              "      <td>Female</td>\n",
              "      <td>1985</td>\n",
              "      <td>$87030</td>\n",
              "      <td>727</td>\n",
              "      <td>3</td>\n",
              "      <td>77</td>\n",
              "    </tr>\n",
              "    <tr>\n",
              "      <th>4</th>\n",
              "      <td>Watsonville</td>\n",
              "      <td>36.950000</td>\n",
              "      <td>-121.720000</td>\n",
              "      <td>Male</td>\n",
              "      <td>1957</td>\n",
              "      <td>$34496</td>\n",
              "      <td>731</td>\n",
              "      <td>5</td>\n",
              "      <td>163</td>\n",
              "    </tr>\n",
              "  </tbody>\n",
              "</table>\n",
              "</div>\n",
              "      <button class=\"colab-df-convert\" onclick=\"convertToInteractive('df-34f2d21d-a0ba-4c1f-ac1d-8ce2e7e31867')\"\n",
              "              title=\"Convert this dataframe to an interactive table.\"\n",
              "              style=\"display:none;\">\n",
              "        \n",
              "  <svg xmlns=\"http://www.w3.org/2000/svg\" height=\"24px\"viewBox=\"0 0 24 24\"\n",
              "       width=\"24px\">\n",
              "    <path d=\"M0 0h24v24H0V0z\" fill=\"none\"/>\n",
              "    <path d=\"M18.56 5.44l.94 2.06.94-2.06 2.06-.94-2.06-.94-.94-2.06-.94 2.06-2.06.94zm-11 1L8.5 8.5l.94-2.06 2.06-.94-2.06-.94L8.5 2.5l-.94 2.06-2.06.94zm10 10l.94 2.06.94-2.06 2.06-.94-2.06-.94-.94-2.06-.94 2.06-2.06.94z\"/><path d=\"M17.41 7.96l-1.37-1.37c-.4-.4-.92-.59-1.43-.59-.52 0-1.04.2-1.43.59L10.3 9.45l-7.72 7.72c-.78.78-.78 2.05 0 2.83L4 21.41c.39.39.9.59 1.41.59.51 0 1.02-.2 1.41-.59l7.78-7.78 2.81-2.81c.8-.78.8-2.07 0-2.86zM5.41 20L4 18.59l7.72-7.72 1.47 1.35L5.41 20z\"/>\n",
              "  </svg>\n",
              "      </button>\n",
              "      \n",
              "  <style>\n",
              "    .colab-df-container {\n",
              "      display:flex;\n",
              "      flex-wrap:wrap;\n",
              "      gap: 12px;\n",
              "    }\n",
              "\n",
              "    .colab-df-convert {\n",
              "      background-color: #E8F0FE;\n",
              "      border: none;\n",
              "      border-radius: 50%;\n",
              "      cursor: pointer;\n",
              "      display: none;\n",
              "      fill: #1967D2;\n",
              "      height: 32px;\n",
              "      padding: 0 0 0 0;\n",
              "      width: 32px;\n",
              "    }\n",
              "\n",
              "    .colab-df-convert:hover {\n",
              "      background-color: #E2EBFA;\n",
              "      box-shadow: 0px 1px 2px rgba(60, 64, 67, 0.3), 0px 1px 3px 1px rgba(60, 64, 67, 0.15);\n",
              "      fill: #174EA6;\n",
              "    }\n",
              "\n",
              "    [theme=dark] .colab-df-convert {\n",
              "      background-color: #3B4455;\n",
              "      fill: #D2E3FC;\n",
              "    }\n",
              "\n",
              "    [theme=dark] .colab-df-convert:hover {\n",
              "      background-color: #434B5C;\n",
              "      box-shadow: 0px 1px 3px 1px rgba(0, 0, 0, 0.15);\n",
              "      filter: drop-shadow(0px 1px 2px rgba(0, 0, 0, 0.3));\n",
              "      fill: #FFFFFF;\n",
              "    }\n",
              "  </style>\n",
              "\n",
              "      <script>\n",
              "        const buttonEl =\n",
              "          document.querySelector('#df-34f2d21d-a0ba-4c1f-ac1d-8ce2e7e31867 button.colab-df-convert');\n",
              "        buttonEl.style.display =\n",
              "          google.colab.kernel.accessAllowed ? 'block' : 'none';\n",
              "\n",
              "        async function convertToInteractive(key) {\n",
              "          const element = document.querySelector('#df-34f2d21d-a0ba-4c1f-ac1d-8ce2e7e31867');\n",
              "          const dataTable =\n",
              "            await google.colab.kernel.invokeFunction('convertToInteractive',\n",
              "                                                     [key], {});\n",
              "          if (!dataTable) return;\n",
              "\n",
              "          const docLinkHtml = 'Like what you see? Visit the ' +\n",
              "            '<a target=\"_blank\" href=https://colab.research.google.com/notebooks/data_table.ipynb>data table notebook</a>'\n",
              "            + ' to learn more about interactive tables.';\n",
              "          element.innerHTML = '';\n",
              "          dataTable['output_type'] = 'display_data';\n",
              "          await google.colab.output.renderOutput(dataTable, element);\n",
              "          const docLink = document.createElement('div');\n",
              "          docLink.innerHTML = docLinkHtml;\n",
              "          element.appendChild(docLink);\n",
              "        }\n",
              "      </script>\n",
              "    </div>\n",
              "  </div>\n",
              "  "
            ]
          },
          "metadata": {},
          "execution_count": 4
        }
      ],
      "source": [
        "fico_credit_score_data.head()"
      ]
    },
    {
      "cell_type": "code",
      "execution_count": null,
      "metadata": {
        "id": "dh8-OVa5e6CT",
        "outputId": "1071c579-9920-44e6-8e36-811ed46aebea",
        "colab": {
          "base_uri": "https://localhost:8080/",
          "height": 206
        }
      },
      "outputs": [
        {
          "output_type": "execute_result",
          "data": {
            "text/plain": [
              "  Name Initials  CARD INDEX  Card Brand Card Type  Expires Has Chip  \\\n",
              "0            AB           0        Visa    Credit  04/2021       NO   \n",
              "1            AB           1        Visa     Debit  02/2021       NO   \n",
              "2            KR           0  Mastercard     Debit  08/2023      YES   \n",
              "3            KR           1        Amex    Credit  12/2012      YES   \n",
              "4            KR           2        Visa     Debit  12/2023      YES   \n",
              "\n",
              "  Acct Open Date  ID_3  \n",
              "0        12/2013     0  \n",
              "1        06/2013     0  \n",
              "2        03/2008     1  \n",
              "3        07/2011     1  \n",
              "4        03/2014     1  "
            ],
            "text/html": [
              "\n",
              "  <div id=\"df-2cedc125-9af2-4de4-bf27-1ba09d6f9b92\">\n",
              "    <div class=\"colab-df-container\">\n",
              "      <div>\n",
              "<style scoped>\n",
              "    .dataframe tbody tr th:only-of-type {\n",
              "        vertical-align: middle;\n",
              "    }\n",
              "\n",
              "    .dataframe tbody tr th {\n",
              "        vertical-align: top;\n",
              "    }\n",
              "\n",
              "    .dataframe thead th {\n",
              "        text-align: right;\n",
              "    }\n",
              "</style>\n",
              "<table border=\"1\" class=\"dataframe\">\n",
              "  <thead>\n",
              "    <tr style=\"text-align: right;\">\n",
              "      <th></th>\n",
              "      <th>Name Initials</th>\n",
              "      <th>CARD INDEX</th>\n",
              "      <th>Card Brand</th>\n",
              "      <th>Card Type</th>\n",
              "      <th>Expires</th>\n",
              "      <th>Has Chip</th>\n",
              "      <th>Acct Open Date</th>\n",
              "      <th>ID_3</th>\n",
              "    </tr>\n",
              "  </thead>\n",
              "  <tbody>\n",
              "    <tr>\n",
              "      <th>0</th>\n",
              "      <td>AB</td>\n",
              "      <td>0</td>\n",
              "      <td>Visa</td>\n",
              "      <td>Credit</td>\n",
              "      <td>04/2021</td>\n",
              "      <td>NO</td>\n",
              "      <td>12/2013</td>\n",
              "      <td>0</td>\n",
              "    </tr>\n",
              "    <tr>\n",
              "      <th>1</th>\n",
              "      <td>AB</td>\n",
              "      <td>1</td>\n",
              "      <td>Visa</td>\n",
              "      <td>Debit</td>\n",
              "      <td>02/2021</td>\n",
              "      <td>NO</td>\n",
              "      <td>06/2013</td>\n",
              "      <td>0</td>\n",
              "    </tr>\n",
              "    <tr>\n",
              "      <th>2</th>\n",
              "      <td>KR</td>\n",
              "      <td>0</td>\n",
              "      <td>Mastercard</td>\n",
              "      <td>Debit</td>\n",
              "      <td>08/2023</td>\n",
              "      <td>YES</td>\n",
              "      <td>03/2008</td>\n",
              "      <td>1</td>\n",
              "    </tr>\n",
              "    <tr>\n",
              "      <th>3</th>\n",
              "      <td>KR</td>\n",
              "      <td>1</td>\n",
              "      <td>Amex</td>\n",
              "      <td>Credit</td>\n",
              "      <td>12/2012</td>\n",
              "      <td>YES</td>\n",
              "      <td>07/2011</td>\n",
              "      <td>1</td>\n",
              "    </tr>\n",
              "    <tr>\n",
              "      <th>4</th>\n",
              "      <td>KR</td>\n",
              "      <td>2</td>\n",
              "      <td>Visa</td>\n",
              "      <td>Debit</td>\n",
              "      <td>12/2023</td>\n",
              "      <td>YES</td>\n",
              "      <td>03/2014</td>\n",
              "      <td>1</td>\n",
              "    </tr>\n",
              "  </tbody>\n",
              "</table>\n",
              "</div>\n",
              "      <button class=\"colab-df-convert\" onclick=\"convertToInteractive('df-2cedc125-9af2-4de4-bf27-1ba09d6f9b92')\"\n",
              "              title=\"Convert this dataframe to an interactive table.\"\n",
              "              style=\"display:none;\">\n",
              "        \n",
              "  <svg xmlns=\"http://www.w3.org/2000/svg\" height=\"24px\"viewBox=\"0 0 24 24\"\n",
              "       width=\"24px\">\n",
              "    <path d=\"M0 0h24v24H0V0z\" fill=\"none\"/>\n",
              "    <path d=\"M18.56 5.44l.94 2.06.94-2.06 2.06-.94-2.06-.94-.94-2.06-.94 2.06-2.06.94zm-11 1L8.5 8.5l.94-2.06 2.06-.94-2.06-.94L8.5 2.5l-.94 2.06-2.06.94zm10 10l.94 2.06.94-2.06 2.06-.94-2.06-.94-.94-2.06-.94 2.06-2.06.94z\"/><path d=\"M17.41 7.96l-1.37-1.37c-.4-.4-.92-.59-1.43-.59-.52 0-1.04.2-1.43.59L10.3 9.45l-7.72 7.72c-.78.78-.78 2.05 0 2.83L4 21.41c.39.39.9.59 1.41.59.51 0 1.02-.2 1.41-.59l7.78-7.78 2.81-2.81c.8-.78.8-2.07 0-2.86zM5.41 20L4 18.59l7.72-7.72 1.47 1.35L5.41 20z\"/>\n",
              "  </svg>\n",
              "      </button>\n",
              "      \n",
              "  <style>\n",
              "    .colab-df-container {\n",
              "      display:flex;\n",
              "      flex-wrap:wrap;\n",
              "      gap: 12px;\n",
              "    }\n",
              "\n",
              "    .colab-df-convert {\n",
              "      background-color: #E8F0FE;\n",
              "      border: none;\n",
              "      border-radius: 50%;\n",
              "      cursor: pointer;\n",
              "      display: none;\n",
              "      fill: #1967D2;\n",
              "      height: 32px;\n",
              "      padding: 0 0 0 0;\n",
              "      width: 32px;\n",
              "    }\n",
              "\n",
              "    .colab-df-convert:hover {\n",
              "      background-color: #E2EBFA;\n",
              "      box-shadow: 0px 1px 2px rgba(60, 64, 67, 0.3), 0px 1px 3px 1px rgba(60, 64, 67, 0.15);\n",
              "      fill: #174EA6;\n",
              "    }\n",
              "\n",
              "    [theme=dark] .colab-df-convert {\n",
              "      background-color: #3B4455;\n",
              "      fill: #D2E3FC;\n",
              "    }\n",
              "\n",
              "    [theme=dark] .colab-df-convert:hover {\n",
              "      background-color: #434B5C;\n",
              "      box-shadow: 0px 1px 3px 1px rgba(0, 0, 0, 0.15);\n",
              "      filter: drop-shadow(0px 1px 2px rgba(0, 0, 0, 0.3));\n",
              "      fill: #FFFFFF;\n",
              "    }\n",
              "  </style>\n",
              "\n",
              "      <script>\n",
              "        const buttonEl =\n",
              "          document.querySelector('#df-2cedc125-9af2-4de4-bf27-1ba09d6f9b92 button.colab-df-convert');\n",
              "        buttonEl.style.display =\n",
              "          google.colab.kernel.accessAllowed ? 'block' : 'none';\n",
              "\n",
              "        async function convertToInteractive(key) {\n",
              "          const element = document.querySelector('#df-2cedc125-9af2-4de4-bf27-1ba09d6f9b92');\n",
              "          const dataTable =\n",
              "            await google.colab.kernel.invokeFunction('convertToInteractive',\n",
              "                                                     [key], {});\n",
              "          if (!dataTable) return;\n",
              "\n",
              "          const docLinkHtml = 'Like what you see? Visit the ' +\n",
              "            '<a target=\"_blank\" href=https://colab.research.google.com/notebooks/data_table.ipynb>data table notebook</a>'\n",
              "            + ' to learn more about interactive tables.';\n",
              "          element.innerHTML = '';\n",
              "          dataTable['output_type'] = 'display_data';\n",
              "          await google.colab.output.renderOutput(dataTable, element);\n",
              "          const docLink = document.createElement('div');\n",
              "          docLink.innerHTML = docLinkHtml;\n",
              "          element.appendChild(docLink);\n",
              "        }\n",
              "      </script>\n",
              "    </div>\n",
              "  </div>\n",
              "  "
            ]
          },
          "metadata": {},
          "execution_count": 5
        }
      ],
      "source": [
        "credit_card_data.head()"
      ]
    },
    {
      "cell_type": "code",
      "execution_count": null,
      "metadata": {
        "id": "saUiecjIe6CY",
        "outputId": "f34d5be2-5b3d-4871-9fa8-a2cc21799dc0",
        "colab": {
          "base_uri": "https://localhost:8080/",
          "height": 206
        }
      },
      "outputs": [
        {
          "output_type": "execute_result",
          "data": {
            "text/plain": [
              "   CARD INDEX   Time        Date   Amount          Use Chip  \\\n",
              "0           0  06:02  2019-01-05  $120.30  Chip Transaction   \n",
              "1           0  20:10  2019-01-06   $68.43  Chip Transaction   \n",
              "2           0  10:18  2019-01-09   $59.17  Chip Transaction   \n",
              "3           0  13:13  2019-01-11   $16.07  Chip Transaction   \n",
              "4           0  05:54  2019-01-12  $132.82  Chip Transaction   \n",
              "\n",
              "         Merchant Name  Merchant City Merchant State Merchant Zip Is Fraud?  \\\n",
              "0  7522433618679272954      Princeton             MA         1541        No   \n",
              "1 -2744911404133435018  North Grafton             MA         1536        No   \n",
              "2 -4693979874497918566  North Grafton             MA         1536        No   \n",
              "3  7522433618679272954      Princeton             MA         1541        No   \n",
              "4  1913477460590765860     Sturbridge             MA         1566        No   \n",
              "\n",
              "   ID_4  \n",
              "0     0  \n",
              "1     0  \n",
              "2     0  \n",
              "3     0  \n",
              "4     0  "
            ],
            "text/html": [
              "\n",
              "  <div id=\"df-4a051410-2f9c-43a9-87f6-396c493358c7\">\n",
              "    <div class=\"colab-df-container\">\n",
              "      <div>\n",
              "<style scoped>\n",
              "    .dataframe tbody tr th:only-of-type {\n",
              "        vertical-align: middle;\n",
              "    }\n",
              "\n",
              "    .dataframe tbody tr th {\n",
              "        vertical-align: top;\n",
              "    }\n",
              "\n",
              "    .dataframe thead th {\n",
              "        text-align: right;\n",
              "    }\n",
              "</style>\n",
              "<table border=\"1\" class=\"dataframe\">\n",
              "  <thead>\n",
              "    <tr style=\"text-align: right;\">\n",
              "      <th></th>\n",
              "      <th>CARD INDEX</th>\n",
              "      <th>Time</th>\n",
              "      <th>Date</th>\n",
              "      <th>Amount</th>\n",
              "      <th>Use Chip</th>\n",
              "      <th>Merchant Name</th>\n",
              "      <th>Merchant City</th>\n",
              "      <th>Merchant State</th>\n",
              "      <th>Merchant Zip</th>\n",
              "      <th>Is Fraud?</th>\n",
              "      <th>ID_4</th>\n",
              "    </tr>\n",
              "  </thead>\n",
              "  <tbody>\n",
              "    <tr>\n",
              "      <th>0</th>\n",
              "      <td>0</td>\n",
              "      <td>06:02</td>\n",
              "      <td>2019-01-05</td>\n",
              "      <td>$120.30</td>\n",
              "      <td>Chip Transaction</td>\n",
              "      <td>7522433618679272954</td>\n",
              "      <td>Princeton</td>\n",
              "      <td>MA</td>\n",
              "      <td>1541</td>\n",
              "      <td>No</td>\n",
              "      <td>0</td>\n",
              "    </tr>\n",
              "    <tr>\n",
              "      <th>1</th>\n",
              "      <td>0</td>\n",
              "      <td>20:10</td>\n",
              "      <td>2019-01-06</td>\n",
              "      <td>$68.43</td>\n",
              "      <td>Chip Transaction</td>\n",
              "      <td>-2744911404133435018</td>\n",
              "      <td>North Grafton</td>\n",
              "      <td>MA</td>\n",
              "      <td>1536</td>\n",
              "      <td>No</td>\n",
              "      <td>0</td>\n",
              "    </tr>\n",
              "    <tr>\n",
              "      <th>2</th>\n",
              "      <td>0</td>\n",
              "      <td>10:18</td>\n",
              "      <td>2019-01-09</td>\n",
              "      <td>$59.17</td>\n",
              "      <td>Chip Transaction</td>\n",
              "      <td>-4693979874497918566</td>\n",
              "      <td>North Grafton</td>\n",
              "      <td>MA</td>\n",
              "      <td>1536</td>\n",
              "      <td>No</td>\n",
              "      <td>0</td>\n",
              "    </tr>\n",
              "    <tr>\n",
              "      <th>3</th>\n",
              "      <td>0</td>\n",
              "      <td>13:13</td>\n",
              "      <td>2019-01-11</td>\n",
              "      <td>$16.07</td>\n",
              "      <td>Chip Transaction</td>\n",
              "      <td>7522433618679272954</td>\n",
              "      <td>Princeton</td>\n",
              "      <td>MA</td>\n",
              "      <td>1541</td>\n",
              "      <td>No</td>\n",
              "      <td>0</td>\n",
              "    </tr>\n",
              "    <tr>\n",
              "      <th>4</th>\n",
              "      <td>0</td>\n",
              "      <td>05:54</td>\n",
              "      <td>2019-01-12</td>\n",
              "      <td>$132.82</td>\n",
              "      <td>Chip Transaction</td>\n",
              "      <td>1913477460590765860</td>\n",
              "      <td>Sturbridge</td>\n",
              "      <td>MA</td>\n",
              "      <td>1566</td>\n",
              "      <td>No</td>\n",
              "      <td>0</td>\n",
              "    </tr>\n",
              "  </tbody>\n",
              "</table>\n",
              "</div>\n",
              "      <button class=\"colab-df-convert\" onclick=\"convertToInteractive('df-4a051410-2f9c-43a9-87f6-396c493358c7')\"\n",
              "              title=\"Convert this dataframe to an interactive table.\"\n",
              "              style=\"display:none;\">\n",
              "        \n",
              "  <svg xmlns=\"http://www.w3.org/2000/svg\" height=\"24px\"viewBox=\"0 0 24 24\"\n",
              "       width=\"24px\">\n",
              "    <path d=\"M0 0h24v24H0V0z\" fill=\"none\"/>\n",
              "    <path d=\"M18.56 5.44l.94 2.06.94-2.06 2.06-.94-2.06-.94-.94-2.06-.94 2.06-2.06.94zm-11 1L8.5 8.5l.94-2.06 2.06-.94-2.06-.94L8.5 2.5l-.94 2.06-2.06.94zm10 10l.94 2.06.94-2.06 2.06-.94-2.06-.94-.94-2.06-.94 2.06-2.06.94z\"/><path d=\"M17.41 7.96l-1.37-1.37c-.4-.4-.92-.59-1.43-.59-.52 0-1.04.2-1.43.59L10.3 9.45l-7.72 7.72c-.78.78-.78 2.05 0 2.83L4 21.41c.39.39.9.59 1.41.59.51 0 1.02-.2 1.41-.59l7.78-7.78 2.81-2.81c.8-.78.8-2.07 0-2.86zM5.41 20L4 18.59l7.72-7.72 1.47 1.35L5.41 20z\"/>\n",
              "  </svg>\n",
              "      </button>\n",
              "      \n",
              "  <style>\n",
              "    .colab-df-container {\n",
              "      display:flex;\n",
              "      flex-wrap:wrap;\n",
              "      gap: 12px;\n",
              "    }\n",
              "\n",
              "    .colab-df-convert {\n",
              "      background-color: #E8F0FE;\n",
              "      border: none;\n",
              "      border-radius: 50%;\n",
              "      cursor: pointer;\n",
              "      display: none;\n",
              "      fill: #1967D2;\n",
              "      height: 32px;\n",
              "      padding: 0 0 0 0;\n",
              "      width: 32px;\n",
              "    }\n",
              "\n",
              "    .colab-df-convert:hover {\n",
              "      background-color: #E2EBFA;\n",
              "      box-shadow: 0px 1px 2px rgba(60, 64, 67, 0.3), 0px 1px 3px 1px rgba(60, 64, 67, 0.15);\n",
              "      fill: #174EA6;\n",
              "    }\n",
              "\n",
              "    [theme=dark] .colab-df-convert {\n",
              "      background-color: #3B4455;\n",
              "      fill: #D2E3FC;\n",
              "    }\n",
              "\n",
              "    [theme=dark] .colab-df-convert:hover {\n",
              "      background-color: #434B5C;\n",
              "      box-shadow: 0px 1px 3px 1px rgba(0, 0, 0, 0.15);\n",
              "      filter: drop-shadow(0px 1px 2px rgba(0, 0, 0, 0.3));\n",
              "      fill: #FFFFFF;\n",
              "    }\n",
              "  </style>\n",
              "\n",
              "      <script>\n",
              "        const buttonEl =\n",
              "          document.querySelector('#df-4a051410-2f9c-43a9-87f6-396c493358c7 button.colab-df-convert');\n",
              "        buttonEl.style.display =\n",
              "          google.colab.kernel.accessAllowed ? 'block' : 'none';\n",
              "\n",
              "        async function convertToInteractive(key) {\n",
              "          const element = document.querySelector('#df-4a051410-2f9c-43a9-87f6-396c493358c7');\n",
              "          const dataTable =\n",
              "            await google.colab.kernel.invokeFunction('convertToInteractive',\n",
              "                                                     [key], {});\n",
              "          if (!dataTable) return;\n",
              "\n",
              "          const docLinkHtml = 'Like what you see? Visit the ' +\n",
              "            '<a target=\"_blank\" href=https://colab.research.google.com/notebooks/data_table.ipynb>data table notebook</a>'\n",
              "            + ' to learn more about interactive tables.';\n",
              "          element.innerHTML = '';\n",
              "          dataTable['output_type'] = 'display_data';\n",
              "          await google.colab.output.renderOutput(dataTable, element);\n",
              "          const docLink = document.createElement('div');\n",
              "          docLink.innerHTML = docLinkHtml;\n",
              "          element.appendChild(docLink);\n",
              "        }\n",
              "      </script>\n",
              "    </div>\n",
              "  </div>\n",
              "  "
            ]
          },
          "metadata": {},
          "execution_count": 6
        }
      ],
      "source": [
        "transactions_data.head()"
      ]
    },
    {
      "cell_type": "code",
      "execution_count": null,
      "metadata": {
        "id": "7kd863JAe6CV",
        "outputId": "d9103a46-a0c3-48c0-f2a6-936c18e77f25",
        "colab": {
          "base_uri": "https://localhost:8080/",
          "height": 389
        }
      },
      "outputs": [
        {
          "output_type": "execute_result",
          "data": {
            "text/plain": [
              "            Person  Birth Year  Birth Month  Gender                 Address  \\\n",
              "0    Stevie Macron        2001            9  Female  3371 Madison Boulevard   \n",
              "1      Brycen Bell        1961           11    Male        50 Spruce Street   \n",
              "2        Makai Lee        1994            8    Male         9181 Elm Avenue   \n",
              "3    Kieran Rogers        1996           12    Male         1430 Elm Avenue   \n",
              "4  Juliette Howard        1965            9  Female  393 Mountain View Lane   \n",
              "\n",
              "   Apartment            City State  ID_1  \n",
              "0        NaN  Camp Pendleton    CA   185  \n",
              "1        NaN      Sacramento    CA    23  \n",
              "2        NaN        Stockton    CA   117  \n",
              "3     9089.0         Fremont    CA   126  \n",
              "4        NaN   Newport Coast    CA   150  "
            ],
            "text/html": [
              "\n",
              "  <div id=\"df-849eb5ca-fe2c-40b3-926e-6e79c70a33bf\">\n",
              "    <div class=\"colab-df-container\">\n",
              "      <div>\n",
              "<style scoped>\n",
              "    .dataframe tbody tr th:only-of-type {\n",
              "        vertical-align: middle;\n",
              "    }\n",
              "\n",
              "    .dataframe tbody tr th {\n",
              "        vertical-align: top;\n",
              "    }\n",
              "\n",
              "    .dataframe thead th {\n",
              "        text-align: right;\n",
              "    }\n",
              "</style>\n",
              "<table border=\"1\" class=\"dataframe\">\n",
              "  <thead>\n",
              "    <tr style=\"text-align: right;\">\n",
              "      <th></th>\n",
              "      <th>Person</th>\n",
              "      <th>Birth Year</th>\n",
              "      <th>Birth Month</th>\n",
              "      <th>Gender</th>\n",
              "      <th>Address</th>\n",
              "      <th>Apartment</th>\n",
              "      <th>City</th>\n",
              "      <th>State</th>\n",
              "      <th>ID_1</th>\n",
              "    </tr>\n",
              "  </thead>\n",
              "  <tbody>\n",
              "    <tr>\n",
              "      <th>0</th>\n",
              "      <td>Stevie Macron</td>\n",
              "      <td>2001</td>\n",
              "      <td>9</td>\n",
              "      <td>Female</td>\n",
              "      <td>3371 Madison Boulevard</td>\n",
              "      <td>NaN</td>\n",
              "      <td>Camp Pendleton</td>\n",
              "      <td>CA</td>\n",
              "      <td>185</td>\n",
              "    </tr>\n",
              "    <tr>\n",
              "      <th>1</th>\n",
              "      <td>Brycen Bell</td>\n",
              "      <td>1961</td>\n",
              "      <td>11</td>\n",
              "      <td>Male</td>\n",
              "      <td>50 Spruce Street</td>\n",
              "      <td>NaN</td>\n",
              "      <td>Sacramento</td>\n",
              "      <td>CA</td>\n",
              "      <td>23</td>\n",
              "    </tr>\n",
              "    <tr>\n",
              "      <th>2</th>\n",
              "      <td>Makai Lee</td>\n",
              "      <td>1994</td>\n",
              "      <td>8</td>\n",
              "      <td>Male</td>\n",
              "      <td>9181 Elm Avenue</td>\n",
              "      <td>NaN</td>\n",
              "      <td>Stockton</td>\n",
              "      <td>CA</td>\n",
              "      <td>117</td>\n",
              "    </tr>\n",
              "    <tr>\n",
              "      <th>3</th>\n",
              "      <td>Kieran Rogers</td>\n",
              "      <td>1996</td>\n",
              "      <td>12</td>\n",
              "      <td>Male</td>\n",
              "      <td>1430 Elm Avenue</td>\n",
              "      <td>9089.0</td>\n",
              "      <td>Fremont</td>\n",
              "      <td>CA</td>\n",
              "      <td>126</td>\n",
              "    </tr>\n",
              "    <tr>\n",
              "      <th>4</th>\n",
              "      <td>Juliette Howard</td>\n",
              "      <td>1965</td>\n",
              "      <td>9</td>\n",
              "      <td>Female</td>\n",
              "      <td>393 Mountain View Lane</td>\n",
              "      <td>NaN</td>\n",
              "      <td>Newport Coast</td>\n",
              "      <td>CA</td>\n",
              "      <td>150</td>\n",
              "    </tr>\n",
              "  </tbody>\n",
              "</table>\n",
              "</div>\n",
              "      <button class=\"colab-df-convert\" onclick=\"convertToInteractive('df-849eb5ca-fe2c-40b3-926e-6e79c70a33bf')\"\n",
              "              title=\"Convert this dataframe to an interactive table.\"\n",
              "              style=\"display:none;\">\n",
              "        \n",
              "  <svg xmlns=\"http://www.w3.org/2000/svg\" height=\"24px\"viewBox=\"0 0 24 24\"\n",
              "       width=\"24px\">\n",
              "    <path d=\"M0 0h24v24H0V0z\" fill=\"none\"/>\n",
              "    <path d=\"M18.56 5.44l.94 2.06.94-2.06 2.06-.94-2.06-.94-.94-2.06-.94 2.06-2.06.94zm-11 1L8.5 8.5l.94-2.06 2.06-.94-2.06-.94L8.5 2.5l-.94 2.06-2.06.94zm10 10l.94 2.06.94-2.06 2.06-.94-2.06-.94-.94-2.06-.94 2.06-2.06.94z\"/><path d=\"M17.41 7.96l-1.37-1.37c-.4-.4-.92-.59-1.43-.59-.52 0-1.04.2-1.43.59L10.3 9.45l-7.72 7.72c-.78.78-.78 2.05 0 2.83L4 21.41c.39.39.9.59 1.41.59.51 0 1.02-.2 1.41-.59l7.78-7.78 2.81-2.81c.8-.78.8-2.07 0-2.86zM5.41 20L4 18.59l7.72-7.72 1.47 1.35L5.41 20z\"/>\n",
              "  </svg>\n",
              "      </button>\n",
              "      \n",
              "  <style>\n",
              "    .colab-df-container {\n",
              "      display:flex;\n",
              "      flex-wrap:wrap;\n",
              "      gap: 12px;\n",
              "    }\n",
              "\n",
              "    .colab-df-convert {\n",
              "      background-color: #E8F0FE;\n",
              "      border: none;\n",
              "      border-radius: 50%;\n",
              "      cursor: pointer;\n",
              "      display: none;\n",
              "      fill: #1967D2;\n",
              "      height: 32px;\n",
              "      padding: 0 0 0 0;\n",
              "      width: 32px;\n",
              "    }\n",
              "\n",
              "    .colab-df-convert:hover {\n",
              "      background-color: #E2EBFA;\n",
              "      box-shadow: 0px 1px 2px rgba(60, 64, 67, 0.3), 0px 1px 3px 1px rgba(60, 64, 67, 0.15);\n",
              "      fill: #174EA6;\n",
              "    }\n",
              "\n",
              "    [theme=dark] .colab-df-convert {\n",
              "      background-color: #3B4455;\n",
              "      fill: #D2E3FC;\n",
              "    }\n",
              "\n",
              "    [theme=dark] .colab-df-convert:hover {\n",
              "      background-color: #434B5C;\n",
              "      box-shadow: 0px 1px 3px 1px rgba(0, 0, 0, 0.15);\n",
              "      filter: drop-shadow(0px 1px 2px rgba(0, 0, 0, 0.3));\n",
              "      fill: #FFFFFF;\n",
              "    }\n",
              "  </style>\n",
              "\n",
              "      <script>\n",
              "        const buttonEl =\n",
              "          document.querySelector('#df-849eb5ca-fe2c-40b3-926e-6e79c70a33bf button.colab-df-convert');\n",
              "        buttonEl.style.display =\n",
              "          google.colab.kernel.accessAllowed ? 'block' : 'none';\n",
              "\n",
              "        async function convertToInteractive(key) {\n",
              "          const element = document.querySelector('#df-849eb5ca-fe2c-40b3-926e-6e79c70a33bf');\n",
              "          const dataTable =\n",
              "            await google.colab.kernel.invokeFunction('convertToInteractive',\n",
              "                                                     [key], {});\n",
              "          if (!dataTable) return;\n",
              "\n",
              "          const docLinkHtml = 'Like what you see? Visit the ' +\n",
              "            '<a target=\"_blank\" href=https://colab.research.google.com/notebooks/data_table.ipynb>data table notebook</a>'\n",
              "            + ' to learn more about interactive tables.';\n",
              "          element.innerHTML = '';\n",
              "          dataTable['output_type'] = 'display_data';\n",
              "          await google.colab.output.renderOutput(dataTable, element);\n",
              "          const docLink = document.createElement('div');\n",
              "          docLink.innerHTML = docLinkHtml;\n",
              "          element.appendChild(docLink);\n",
              "        }\n",
              "      </script>\n",
              "    </div>\n",
              "  </div>\n",
              "  "
            ]
          },
          "metadata": {},
          "execution_count": 15
        }
      ],
      "source": [
        "pii_data.head()"
      ]
    },
    {
      "cell_type": "markdown",
      "metadata": {
        "id": "wMAgGSPCe6CZ"
      },
      "source": [
        "We want to try to figure out whether an attacker can link any obtained Pii information back to the three anonymised datasets. If so, they could potentially use the re-identified information for malevolent purposes.\n",
        "\n",
        "Now it's time for you to get creative! How can these datasets be used in combination to reveal private, sensitive information about the contained individuals?\n",
        "\n",
        "Let's take a look at a toy example for some inspiration to get us started. "
      ]
    },
    {
      "cell_type": "markdown",
      "source": [
        "# Getting Started\n",
        "\n",
        "**Your goal is to to link the information in the three anonymised datasets back to the individuals in PersonalIdentifiableInformation.csv**.\n",
        "\n",
        "**In practice, you should do this by matching the IDs in each dataset:**\n",
        "In each dataset, the *ID* columns are used to uniquely identify each person contained in the dataset. But a persons *ID* is randomly chosen in each dataset - so the IDs are be different across each datasets. But if you can correctly link a persons *ID*s you will have succesfully re-identifed their private data.\n",
        "\n",
        "**You may assume that all customers in the anonymised datasets are contained in the Pii dataset.**\n",
        "\n",
        "**Note that it is not possible to de-anonymise all the data**: Some persons may not be contained in all datasets, and in some cases there is simply not enough information to find a unique match.\n",
        "\n",
        "Consider the following tips as inspiration for your linkage attacks: \n",
        "- Overlapping columns between datasets tend to be useful.\n",
        "- Sometimes it's possible to narrow down possibilities by matching multiple columns.\n",
        "- Sometimes you can derive or infer features which can be matched (for example, given a zip code you may be able to derive the city/town, or visa versa).\n",
        "- Sometimes making assumptions can help narrow down info (for example, some names may statistically be more likely to be given to certain genders).\n"
      ],
      "metadata": {
        "id": "f4DHh1m9B85o"
      }
    },
    {
      "cell_type": "markdown",
      "metadata": {
        "id": "VZ5rTASee6Cc"
      },
      "source": [
        "# Evaluation\n",
        "\n",
        "**Your submission should be in the form of a .csv file containing the columns [*ID_1*, *ID_2*, *ID_3*, *ID_4*]** -- where each row represents a customer and each column their linked *ID*s from the respective datasets.\n",
        "\n",
        "If your submitted csv does not contain the columns [*ID_1*, *ID_2*, *ID_3*, *ID_4*], you will recieve a score of 0.\n",
        "\n",
        "Within the csv you may only attempt to match with any given *ID_1* once -- all rows containing *ID_1* duplicates will be forcibly removed before evaluation.\n",
        "\n",
        "Instructions for saving and submitting your csv file can be found below.\n",
        "\n",
        "You are not required to complete this challenge using this notebook, and are not required to submit this notebook."
      ]
    },
    {
      "cell_type": "markdown",
      "source": [
        "## Scoring\n",
        "\n",
        "*ID_1* is contained in the Pii dataset and represents the customers ‘base’ ID.\n",
        "\n",
        "Thus, each correct ID matched to *ID_1* adds 1 point to your score. Each incorrect ID matched to *ID_1* subtracts 1 point from your score.\n",
        "If no matches for a person were found, you should omit the individual from your submission. If some, but not all, *ID*s were matched, insert NaNs where no match was found – this will prevent a points deduction due to an incorrect guess. NaNs can be inserted using the numpy library: np.nan.\n",
        "\n",
        "For example, consider person A whose true *ID*s across the four datasets are:\n",
        "\n",
        "- ID_1 = 0\n",
        "- ID_2 = 5\n",
        "- ID_3 = 3\n",
        "- ID_4 = 9\n",
        "\n",
        "If you submit a csv with a row [0,5,3,1], you would receive 1 point for matching ID_1=0 and ID_2=5, 1 point for matching ID_1=0 and ID_3=3 and -1 point for incorrectly matching ID_1=1 and ID_4=1, giving a total of 1 point. If instead you submitted [0,5,3,np.nan], you would receive 2 points."
      ],
      "metadata": {
        "id": "2_TLq5-YREuS"
      }
    },
    {
      "cell_type": "code",
      "execution_count": null,
      "metadata": {
        "id": "nFhE1XSte6Cc"
      },
      "outputs": [],
      "source": [
        "sample_submission = pd.DataFrame({\"ID_1\" : [0], \"ID_2\" : [5], \"ID_3\": [3], \"ID_4\": np.nan})"
      ]
    },
    {
      "cell_type": "code",
      "execution_count": null,
      "metadata": {
        "id": "OoDkl6hhe6Cd",
        "outputId": "2031471d-eeba-444d-b87a-84d68232fe9e",
        "colab": {
          "base_uri": "https://localhost:8080/",
          "height": 81
        }
      },
      "outputs": [
        {
          "output_type": "execute_result",
          "data": {
            "text/plain": [
              "   ID_1  ID_2  ID_3  ID_4\n",
              "0     0     5     3   NaN"
            ],
            "text/html": [
              "\n",
              "  <div id=\"df-3a49c732-52c5-482e-a159-2f56324c5729\">\n",
              "    <div class=\"colab-df-container\">\n",
              "      <div>\n",
              "<style scoped>\n",
              "    .dataframe tbody tr th:only-of-type {\n",
              "        vertical-align: middle;\n",
              "    }\n",
              "\n",
              "    .dataframe tbody tr th {\n",
              "        vertical-align: top;\n",
              "    }\n",
              "\n",
              "    .dataframe thead th {\n",
              "        text-align: right;\n",
              "    }\n",
              "</style>\n",
              "<table border=\"1\" class=\"dataframe\">\n",
              "  <thead>\n",
              "    <tr style=\"text-align: right;\">\n",
              "      <th></th>\n",
              "      <th>ID_1</th>\n",
              "      <th>ID_2</th>\n",
              "      <th>ID_3</th>\n",
              "      <th>ID_4</th>\n",
              "    </tr>\n",
              "  </thead>\n",
              "  <tbody>\n",
              "    <tr>\n",
              "      <th>0</th>\n",
              "      <td>0</td>\n",
              "      <td>5</td>\n",
              "      <td>3</td>\n",
              "      <td>NaN</td>\n",
              "    </tr>\n",
              "  </tbody>\n",
              "</table>\n",
              "</div>\n",
              "      <button class=\"colab-df-convert\" onclick=\"convertToInteractive('df-3a49c732-52c5-482e-a159-2f56324c5729')\"\n",
              "              title=\"Convert this dataframe to an interactive table.\"\n",
              "              style=\"display:none;\">\n",
              "        \n",
              "  <svg xmlns=\"http://www.w3.org/2000/svg\" height=\"24px\"viewBox=\"0 0 24 24\"\n",
              "       width=\"24px\">\n",
              "    <path d=\"M0 0h24v24H0V0z\" fill=\"none\"/>\n",
              "    <path d=\"M18.56 5.44l.94 2.06.94-2.06 2.06-.94-2.06-.94-.94-2.06-.94 2.06-2.06.94zm-11 1L8.5 8.5l.94-2.06 2.06-.94-2.06-.94L8.5 2.5l-.94 2.06-2.06.94zm10 10l.94 2.06.94-2.06 2.06-.94-2.06-.94-.94-2.06-.94 2.06-2.06.94z\"/><path d=\"M17.41 7.96l-1.37-1.37c-.4-.4-.92-.59-1.43-.59-.52 0-1.04.2-1.43.59L10.3 9.45l-7.72 7.72c-.78.78-.78 2.05 0 2.83L4 21.41c.39.39.9.59 1.41.59.51 0 1.02-.2 1.41-.59l7.78-7.78 2.81-2.81c.8-.78.8-2.07 0-2.86zM5.41 20L4 18.59l7.72-7.72 1.47 1.35L5.41 20z\"/>\n",
              "  </svg>\n",
              "      </button>\n",
              "      \n",
              "  <style>\n",
              "    .colab-df-container {\n",
              "      display:flex;\n",
              "      flex-wrap:wrap;\n",
              "      gap: 12px;\n",
              "    }\n",
              "\n",
              "    .colab-df-convert {\n",
              "      background-color: #E8F0FE;\n",
              "      border: none;\n",
              "      border-radius: 50%;\n",
              "      cursor: pointer;\n",
              "      display: none;\n",
              "      fill: #1967D2;\n",
              "      height: 32px;\n",
              "      padding: 0 0 0 0;\n",
              "      width: 32px;\n",
              "    }\n",
              "\n",
              "    .colab-df-convert:hover {\n",
              "      background-color: #E2EBFA;\n",
              "      box-shadow: 0px 1px 2px rgba(60, 64, 67, 0.3), 0px 1px 3px 1px rgba(60, 64, 67, 0.15);\n",
              "      fill: #174EA6;\n",
              "    }\n",
              "\n",
              "    [theme=dark] .colab-df-convert {\n",
              "      background-color: #3B4455;\n",
              "      fill: #D2E3FC;\n",
              "    }\n",
              "\n",
              "    [theme=dark] .colab-df-convert:hover {\n",
              "      background-color: #434B5C;\n",
              "      box-shadow: 0px 1px 3px 1px rgba(0, 0, 0, 0.15);\n",
              "      filter: drop-shadow(0px 1px 2px rgba(0, 0, 0, 0.3));\n",
              "      fill: #FFFFFF;\n",
              "    }\n",
              "  </style>\n",
              "\n",
              "      <script>\n",
              "        const buttonEl =\n",
              "          document.querySelector('#df-3a49c732-52c5-482e-a159-2f56324c5729 button.colab-df-convert');\n",
              "        buttonEl.style.display =\n",
              "          google.colab.kernel.accessAllowed ? 'block' : 'none';\n",
              "\n",
              "        async function convertToInteractive(key) {\n",
              "          const element = document.querySelector('#df-3a49c732-52c5-482e-a159-2f56324c5729');\n",
              "          const dataTable =\n",
              "            await google.colab.kernel.invokeFunction('convertToInteractive',\n",
              "                                                     [key], {});\n",
              "          if (!dataTable) return;\n",
              "\n",
              "          const docLinkHtml = 'Like what you see? Visit the ' +\n",
              "            '<a target=\"_blank\" href=https://colab.research.google.com/notebooks/data_table.ipynb>data table notebook</a>'\n",
              "            + ' to learn more about interactive tables.';\n",
              "          element.innerHTML = '';\n",
              "          dataTable['output_type'] = 'display_data';\n",
              "          await google.colab.output.renderOutput(dataTable, element);\n",
              "          const docLink = document.createElement('div');\n",
              "          docLink.innerHTML = docLinkHtml;\n",
              "          element.appendChild(docLink);\n",
              "        }\n",
              "      </script>\n",
              "    </div>\n",
              "  </div>\n",
              "  "
            ]
          },
          "metadata": {},
          "execution_count": 4
        }
      ],
      "source": [
        "sample_submission"
      ]
    },
    {
      "cell_type": "markdown",
      "source": [
        "For reference, if all customers are succesfully matched a score of 723 (244 x 3 = 732) would be obtained -- 244 customers with 3 matches each (ID_1 matched to ID_2, ID_3, and ID_4).\n",
        "\n",
        "However, there is not enough information available to correctly make each match. Our solution notebook, which completes the most important links, obtains a score of 568 (although this score *can* be imporved on).\n",
        "\n"
      ],
      "metadata": {
        "id": "yjDqB_zyUlSn"
      }
    },
    {
      "cell_type": "markdown",
      "source": [
        "## Submission"
      ],
      "metadata": {
        "id": "S1i6Br4GyOGv"
      }
    },
    {
      "cell_type": "markdown",
      "source": [
        "To save you file for submission:"
      ],
      "metadata": {
        "id": "30k6zJ378dks"
      }
    },
    {
      "cell_type": "code",
      "source": [
        "# Submission function\n",
        "#don't change the file name\n",
        "def save_submission(submission_df):\n",
        "  submission_df.to_csv(f'{team_name}_Challenge2_Submission.csv', index=False)"
      ],
      "metadata": {
        "id": "hq87AxITxByz"
      },
      "execution_count": null,
      "outputs": []
    },
    {
      "cell_type": "markdown",
      "source": [
        "Make sure you use this submission function - it ensure the file is named correctly.\n",
        "\n",
        "An example usage:"
      ],
      "metadata": {
        "id": "rqe6N1fdzF5v"
      }
    },
    {
      "cell_type": "code",
      "source": [
        "# Save sample submission\n",
        "save_submission(sample_submission)"
      ],
      "metadata": {
        "id": "TP0DxsCu8cwR"
      },
      "execution_count": null,
      "outputs": []
    },
    {
      "cell_type": "markdown",
      "source": [
        "The file will be saved in the location displayed in the image below. "
      ],
      "metadata": {
        "id": "6Bfydkv--_Hf"
      }
    },
    {
      "cell_type": "markdown",
      "source": [
        "![Screenshot 2022-06-14 123044.png](data:image/png;base64,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)"
      ],
      "metadata": {
        "id": "-RA-3orJ91E3"
      }
    },
    {
      "cell_type": "markdown",
      "source": [
        "### API Submission\n"
      ],
      "metadata": {
        "id": "ldYjseAxyXz8"
      }
    },
    {
      "cell_type": "markdown",
      "source": [
        "Once you have generated your csv file for submission, you can upload to our api for evaluation using the code shown below. Evaluation is automated and your results will be sent back in the response. The file should be named ‘TeamName_Challenge2_Submission.csv’. Each team can submit once every 10 minutes and their results will be conveyed back to them."
      ],
      "metadata": {
        "id": "LUv_sbfIyd9n"
      }
    },
    {
      "cell_type": "markdown",
      "source": [
        "Submission and the leaderboard is automated through an api. To upload please run the code below, with the file name corresponding to your submission csv. Note that submissions can only be made every 20 minutes to prevent teams from submitting large numbers of random permutations of the IDs, so be sure you're ready to submit before executing the following code!\n"
      ],
      "metadata": {
        "id": "Olmgscy1BVqB"
      }
    },
    {
      "cell_type": "code",
      "source": [
        "\n",
        "def submit(submission_df = None):\n",
        "  '''\n",
        "  If you don't provide a submission dataframe, the default file name \"{team_name}_Challenge2_Submission.csv\" will be used.\n",
        "  Returns a string with your submission value.\n",
        "  '''\n",
        "  if submission_df:\n",
        "    save_submission(submission_df)\n",
        "  return requests.post(COMPETITION_URL+'/submit', files = {\"file\": open(f\"{team_name}_Challenge2_Submission.csv\", \"rb\")}).content.decode() \n",
        "  \n",
        "print(submit())"
      ],
      "metadata": {
        "id": "a3Lyp819BDAU",
        "colab": {
          "base_uri": "https://localhost:8080/"
        },
        "outputId": "72778933-9929-4e50-adc2-91464af0ddb7"
      },
      "execution_count": null,
      "outputs": [
        {
          "output_type": "stream",
          "name": "stdout",
          "text": [
            "{\"detail\":\"Uh Oh! You can only submit a new result 1200.0 secs after the last submision.\"}\n"
          ]
        }
      ]
    },
    {
      "cell_type": "markdown",
      "source": [
        "To get your best score so far, run the following code:"
      ],
      "metadata": {
        "id": "X74FqR4kDhzf"
      }
    },
    {
      "cell_type": "code",
      "source": [
        "def get_my_best_score():\n",
        "  return requests.get(COMPETITION_URL+'/score').content.decode()\n",
        "print(\"Current best score: \", get_my_best_score())"
      ],
      "metadata": {
        "colab": {
          "base_uri": "https://localhost:8080/"
        },
        "id": "1OjOjifWpMUd",
        "outputId": "19cc9e33-a786-469d-c45c-da5deae520d6"
      },
      "execution_count": null,
      "outputs": [
        {
          "output_type": "stream",
          "name": "stdout",
          "text": [
            "Current best score:  6.0\n"
          ]
        }
      ]
    },
    {
      "cell_type": "markdown",
      "source": [
        "# Final Tips\n",
        "- Before you dive into your implementation, make sure you (i) understand the nature of each dataset and (ii) have thought of some potential strategies that could be used to link them.\n",
        "- Remember, your goal is to identify customers in the anonymised datasets. **This is achieved by matching *ID*s**. E.g. Your score would remain the same regardless of whether an identified person has 10 transactions or 10,000 transactions in CreditCardTransactions.csv - you only get 1 point for matching *ID_1* to *ID_4*!\n",
        "- Remember **it is not possible to de-anonymise all the data** - so if you are only matching a subsection of the customers you may still be making good progress!\n",
        "- Since it is not possible to uniquely link all the datasets you need to **be wary of any duplicates obtained** from *pd.merge()* - These duplicates can significantly hurt your score! Make sure to constantly use *value_counts()* to ensure you are not maintianing duplicates (you should call seperately on each ID). And if any duplicates are found, you can use the *drop_duplicates()* function to remove them. But make sure to avoid excessive dropping (e.g. if ID_1, ID_2, and ID_3 are good matches but ID_4 is a duplicate you shouldn't remove the whole row but just change ID_4 to np.nan).\n",
        "\n",
        "Good Luck!!"
      ],
      "metadata": {
        "id": "cMpFv_bsQnQ8"
      }
    },
    {
      "cell_type": "code",
      "execution_count": null,
      "metadata": {
        "id": "rI6MWMrge6Cd"
      },
      "outputs": [],
      "source": [
        ""
      ]
    }
  ],
  "metadata": {
    "colab": {
      "name": "getting_started_code_only.ipynb",
      "provenance": [],
      "collapsed_sections": []
    },
    "interpreter": {
      "hash": "377d19c15683d3c32012ff581a135e28e7df14352b9960e38eb4e2d4b72f7489"
    },
    "kernelspec": {
      "display_name": "Python 3 (ipykernel)",
      "language": "python",
      "name": "python3"
    },
    "language_info": {
      "codemirror_mode": {
        "name": "ipython",
        "version": 3
      },
      "file_extension": ".py",
      "mimetype": "text/x-python",
      "name": "python",
      "nbconvert_exporter": "python",
      "pygments_lexer": "ipython3",
      "version": "3.9.7"
    }
  },
  "nbformat": 4,
  "nbformat_minor": 0
}